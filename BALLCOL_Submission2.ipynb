{
 "cells": [
  {
   "cell_type": "code",
   "execution_count": 1,
   "metadata": {},
   "outputs": [
    {
     "name": "stdout",
     "output_type": "stream",
     "text": [
      "2 2\n"
     ]
    }
   ],
   "source": [
    "# define number of red balls (n) and blue balls (m)\n",
    "(n,m) = map(int, input().split(' '))"
   ]
  },
  {
   "cell_type": "code",
   "execution_count": 2,
   "metadata": {},
   "outputs": [],
   "source": []
  },
  {
   "cell_type": "code",
   "execution_count": 3,
   "metadata": {},
   "outputs": [],
   "source": [
    "#start count total at zero\n",
    "total = 0\n",
    "t = 1\n",
    "redx, redy, bluex, bluey = [],[],[],[]"
   ]
  },
  {
   "cell_type": "code",
   "execution_count": 4,
   "metadata": {},
   "outputs": [
    {
     "name": "stdout",
     "output_type": "stream",
     "text": [
      "1 2\n",
      "2 9\n"
     ]
    }
   ],
   "source": [
    "#positions of red balls at time t = 1\n",
    "i = 0\n",
    "while i < n:\n",
    "    [x,u] = map(int, input().split(' '))\n",
    "    redx.append(x)\n",
    "    redy.append(u)\n",
    "    i += 1"
   ]
  },
  {
   "cell_type": "code",
   "execution_count": 5,
   "metadata": {},
   "outputs": [
    {
     "name": "stdout",
     "output_type": "stream",
     "text": [
      "[1, 2] [2, 9]\n"
     ]
    }
   ],
   "source": [
    "print(redx, redy)"
   ]
  },
  {
   "cell_type": "code",
   "execution_count": 6,
   "metadata": {},
   "outputs": [
    {
     "name": "stdout",
     "output_type": "stream",
     "text": [
      "2 1\n",
      "5 10\n"
     ]
    }
   ],
   "source": [
    "#positions of blue balls at time t = 1\n",
    "i = 0\n",
    "while i < m:\n",
    "    [y,v] = map(int, input().split(' '))\n",
    "    bluex.append(v)\n",
    "    bluey.append(y)\n",
    "    i += 1"
   ]
  },
  {
   "cell_type": "code",
   "execution_count": 9,
   "metadata": {},
   "outputs": [
    {
     "name": "stdout",
     "output_type": "stream",
     "text": [
      "[1, 10] [2, 5]\n"
     ]
    }
   ],
   "source": [
    "print(bluex, bluey)"
   ]
  },
  {
   "cell_type": "code",
   "execution_count": 13,
   "metadata": {},
   "outputs": [],
   "source": [
    "while redy and bluex:\n",
    "    a = 0\n",
    "    while a < len(redy):\n",
    "        collisonflag = False\n",
    "        #check if x-axis ball has left collision area\n",
    "        if (redy[a] > max(bluey)) or (redx[a] < min(bluex)):\n",
    "            #remove x-axis balls\n",
    "            del redx[a], redy[a]\n",
    "        #check for collisions\n",
    "        else:\n",
    "            b = 0\n",
    "            while b < len(bluey):\n",
    "                #check if y-axis ball has left collision area\n",
    "                if (bluex[b] > max(redx)) or (bluey[b] < min(redy)):\n",
    "                    #remove y-axis balls\n",
    "                    del bluex[b], bluey[b]\n",
    "                #case when collision has not occurred\n",
    "                elif (redx[a] != bluex[b]) or (redy[a] != bluey[b]):\n",
    "                    b = b + 1         \n",
    "                #otherwise collision has occurred\n",
    "                else:\n",
    "                    collisonflag = True\n",
    "                    total = total + 1\n",
    "                    #remove x-axis and y-axis balls that collided\n",
    "                    del redx[a], redy[a], bluex[b], bluey[b]\n",
    "                    break   \n",
    "\n",
    "            #increment only if x-axis ball was not removed\n",
    "            if not collisonflag:\n",
    "                a = a + 1\n",
    "                                              \n",
    "    #update all ball positions at time t\n",
    "    t = t + 1\n",
    "    \n",
    "    i = 0\n",
    "    for i in range(len(redy)):\n",
    "        redy[i] = redy[i]*t\n",
    "\n",
    "    i = 0\n",
    "    for i in range(len(bluex)):\n",
    "        bluex[i] = bluex[i]*t"
   ]
  },
  {
   "cell_type": "code",
   "execution_count": 14,
   "metadata": {},
   "outputs": [
    {
     "name": "stdout",
     "output_type": "stream",
     "text": [
      "1 2\n"
     ]
    }
   ],
   "source": [
    "print(total)"
   ]
  },
  {
   "cell_type": "code",
   "execution_count": null,
   "metadata": {},
   "outputs": [],
   "source": []
  }
 ],
 "metadata": {
  "kernelspec": {
   "display_name": "Python 3",
   "language": "python",
   "name": "python3"
  },
  "language_info": {
   "codemirror_mode": {
    "name": "ipython",
    "version": 3
   },
   "file_extension": ".py",
   "mimetype": "text/x-python",
   "name": "python",
   "nbconvert_exporter": "python",
   "pygments_lexer": "ipython3",
   "version": "3.7.4"
  }
 },
 "nbformat": 4,
 "nbformat_minor": 2
}
