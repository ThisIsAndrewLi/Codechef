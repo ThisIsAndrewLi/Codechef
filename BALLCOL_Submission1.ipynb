{
 "cells": [
  {
   "cell_type": "code",
   "execution_count": 90,
   "metadata": {},
   "outputs": [
    {
     "name": "stdout",
     "output_type": "stream",
     "text": [
      "2 2\n"
     ]
    }
   ],
   "source": [
    "#define number of red balls (n) and blue balls (m)\n",
    "(n,m) = map(int, input().split(' '))"
   ]
  },
  {
   "cell_type": "code",
   "execution_count": 104,
   "metadata": {},
   "outputs": [],
   "source": [
    "#start count total at zero\n",
    "total = 0"
   ]
  },
  {
   "cell_type": "code",
   "execution_count": 105,
   "metadata": {},
   "outputs": [
    {
     "name": "stdout",
     "output_type": "stream",
     "text": [
      "1 1\n",
      "4 3\n"
     ]
    }
   ],
   "source": [
    "#positions of red balls at time t = 0\n",
    "xposition = []\n",
    "xvelocity = []\n",
    "xmaxposition = 0\n",
    "i = 0\n",
    "while i < n:\n",
    "    [x,u] = map(int, input().split(' '))\n",
    "    xposition.append([x,0])\n",
    "    xvelocity.append(u)\n",
    "    if x > xmaxposition:\n",
    "        xmaxposition = x\n",
    "    i += 1"
   ]
  },
  {
   "cell_type": "code",
   "execution_count": 106,
   "metadata": {},
   "outputs": [
    {
     "name": "stdout",
     "output_type": "stream",
     "text": [
      "[[1, 0], [4, 0]] [1, 3] 4\n"
     ]
    }
   ],
   "source": [
    "#print(xposition, xvelocity, xmaxposition)"
   ]
  },
  {
   "cell_type": "code",
   "execution_count": 107,
   "metadata": {},
   "outputs": [
    {
     "name": "stdout",
     "output_type": "stream",
     "text": [
      "1 1\n",
      "3 4\n"
     ]
    }
   ],
   "source": [
    "#positions of blue balls at time t = 0\n",
    "ypostion = []\n",
    "yvelocity = []\n",
    "ymaxposition = 0\n",
    "i = 0\n",
    "while i < m:\n",
    "    [y,v] = map(int, input().split(' '))\n",
    "    yposition.append([0,y])\n",
    "    yvelocity.append(v)\n",
    "    if y > ymaxposition:\n",
    "        ymaxposition = y\n",
    "    i += 1"
   ]
  },
  {
   "cell_type": "code",
   "execution_count": 108,
   "metadata": {},
   "outputs": [
    {
     "name": "stdout",
     "output_type": "stream",
     "text": [
      "[[0, 1], [0, 3]] [1, 4] 3\n"
     ]
    }
   ],
   "source": [
    "#print(yposition, yvelocity, ymaxposition)"
   ]
  },
  {
   "cell_type": "code",
   "execution_count": 109,
   "metadata": {},
   "outputs": [
    {
     "name": "stdout",
     "output_type": "stream",
     "text": [
      "2\n",
      "[] [] 4\n",
      "[] [] 3\n"
     ]
    }
   ],
   "source": [
    "while xposition and yposition:\n",
    "    #update all ball positions at time t\n",
    "    i = 0\n",
    "    for i in range(len(xposition)):\n",
    "        xposition[i][1] = xposition[i][1] + xvelocity[i]\n",
    "\n",
    "    i = 0\n",
    "    for i in range(len(yposition)):\n",
    "        yposition[i][0] = yposition[i][0] + yvelocity[i]\n",
    "\n",
    "    a = 0\n",
    "    while a < len(xposition):\n",
    "        collisonflag = False\n",
    "        #check if x-axis ball has left collision area\n",
    "        if xposition[a][1] > ymaxposition:\n",
    "            #remove x-axis balls\n",
    "            del xposition[a]\n",
    "            del xvelocity[a]\n",
    "        #check for collisions\n",
    "        else:\n",
    "            b = 0\n",
    "            while b < len(yposition):\n",
    "                #check if y-axis ball has left collision area\n",
    "                if yposition[b][0] > xmaxposition:\n",
    "                    #remove y-axis balls\n",
    "                    del yposition[b]\n",
    "                    del yvelocity[b]\n",
    "                #case when collision has occurred\n",
    "                elif xposition[a] == yposition[b]:\n",
    "                    collisonflag = True\n",
    "                    total = total + 1\n",
    "                    #remove x-axis and y-axis balls that collided\n",
    "                    del xposition[a]\n",
    "                    del xvelocity[a]\n",
    "                    del yposition[b]\n",
    "                    del yvelocity[b]    \n",
    "                #otherwise increment and check for collision with next y-axis ball\n",
    "                else:\n",
    "                    b = b + 1\n",
    "            #increment only if x-axis ball was not removed\n",
    "            if not collisonflag:\n",
    "                a = a + 1    \n",
    "\n",
    "    #print(total)\n",
    "    #print(xposition, xvelocity, xmaxposition)\n",
    "    #print(yposition, yvelocity, ymaxposition)"
   ]
  },
  {
   "cell_type": "code",
   "execution_count": 36,
   "metadata": {},
   "outputs": [],
   "source": [
    "print(total)"
   ]
  }
 ],
 "metadata": {
  "kernelspec": {
   "display_name": "Python 3",
   "language": "python",
   "name": "python3"
  }
 },
 "nbformat": 4,
 "nbformat_minor": 2
}
